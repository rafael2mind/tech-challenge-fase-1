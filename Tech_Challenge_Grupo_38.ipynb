{
  "nbformat": 4,
  "nbformat_minor": 0,
  "metadata": {
    "colab": {
      "provenance": [],
      "authorship_tag": "ABX9TyNFc6iX//6K0sYDgHNwGc+l"
    },
    "kernelspec": {
      "name": "python3",
      "display_name": "Python 3"
    },
    "language_info": {
      "name": "python"
    }
  },
  "cells": [
    {
      "cell_type": "markdown",
      "source": [
        "# Tech Challenge - FIAP: IA para Devs (Fase 1)\n",
        "\n",
        "###Grupo 38\n",
        "- Pedro Vianna Silveira\n",
        "- Rafael Silva Souza\n",
        "- Rodrigo de Freitas Ornellas\n",
        "\n",
        "\n",
        "\n",
        "### 🔗 Código Github\n",
        "\n",
        "---\n",
        "\n",
        "\n",
        "https://github.com\n",
        "\n",
        "\n",
        "### 🔗 Vídeo de apresentação\n",
        "https://www.youtube.com   \n",
        "\n",
        "---\n",
        "\n",
        "## 1. Introdução\n",
        "\n",
        "### 1.1. Descrição do Problema\n",
        "\n",
        "O aumento dos custos de saúde é uma preocupação global que afeta indivíduos e empresas. As seguradoras de saúde, em particular, enfrentam o desafio de prever os custos médicos de seus segurados para precificar seus produtos de forma justa e competitiva, além de garantir a sustentabilidade financeira. Para abordar essa questão, é essencial desenvolver modelos preditivos que possam estimar os custos médicos individuais com base em diversas características dos segurados.\n",
        "\n",
        "### 1.2. Objetivo do Projeto\n",
        "\n",
        "O objetivo deste projeto é desenvolver um modelo preditivo de regressão para prever os custos médicos individuais cobrados pelo seguro de saúde. A base de dados fornecida contém informações demográficas e comportamentais dos segurados, como idade, gênero, índice de massa corporal (IMC), número de filhos, se é fumante, região e os encargos médicos.\n",
        "\n",
        "### 1.3. Metodologia\n",
        "\n",
        "Para atingir nosso objetivo, seguiremos um conjunto estruturado de etapas, que incluem:\n",
        "\n",
        "1. **Exploração de Dados**:\n",
        "   - Carregar a base de dados e explorar suas características.\n",
        "   - Analisar estatísticas descritivas e visualizar distribuições relevantes.\n",
        "\n",
        "2. **Pré-processamento de Dados**:\n",
        "   - Realizar a limpeza dos dados, tratando valores ausentes (se necessário).\n",
        "   - Converter variáveis categóricas em formatos adequados para modelagem.\n",
        "\n",
        "3. **Modelagem**:\n",
        "   - Criar um modelo preditivo de regressão utilizando uma técnica à nossa escolha (por exemplo, Regressão Linear, Árvores de Decisão, etc).\n",
        "   - Dividir o conjunto de dados em conjuntos de treinamento e teste.\n",
        "\n",
        "4. **Treinamento e Avaliação do Modelo**:\n",
        "   - Treinar o modelo com o conjunto de treinamento.\n",
        "   - Avaliar o desempenho do modelo utilizando métricas como MAE, RMSE e R².\n",
        "\n",
        "5. **Validação Estatística**:\n",
        "   - Utilizar métricas estatísticas para validar a eficácia do modelo (p-value, intervalos de confiança).\n",
        "\n",
        "6. **Apresentação dos Resultados**:\n",
        "   - Apresentar resultados visuais, como gráficos de previsões vs. valores reais.\n",
        "   - Elaborar um relatório que inclua uma análise dos resultados, insights obtidos e validação estatística.\n",
        "\n",
        "### 1.4. Resultados Esperados\n",
        "\n",
        "Esperamos que o modelo seja capaz de fazer previsões confiáveis dos custos médicos individuais com base nas características fornecidas. O sucesso do modelo será medido pela precisão das previsões em relação aos valores reais, avaliada por meio das métricas de erro mencionadas anteriormente. Além disso, o relatório final deve proporcionar uma compreensão clara dos fatores que influenciam os custos médicos, bem como possíveis melhorias para o modelo.\n",
        "\n",
        "### 1.5. Estrutura do Notebook\n",
        "\n",
        "O notebook será estruturado da seguinte maneira:\n",
        "\n",
        "1. **Introdução**: Explicação do problema, objetivos e metodologia.\n",
        "2. **Exploração de Dados**: Carregamento e análise descritiva dos dados.\n",
        "3. **Pré-processamento de Dados**: Limpeza e transformação dos dados.\n",
        "4. **Modelagem**: Criação e treinamento do modelo preditivo.\n",
        "5. **Avaliação do Modelo**: Avaliação do desempenho do modelo.\n",
        "6. **Validação Estatística**: Verificação da significância dos resultados.\n",
        "7. **Apresentação dos Resultados**: Visualização e interpretação dos resultados.\n",
        "8. **Conclusão**: Discussão dos resultados e considerações finais.\n",
        "\n",
        "---\n",
        "\n",
        "## 2. Exploração de Dados\n",
        "\n",
        "### 2.1. Carregamento e Visualização Inicial\n",
        "\n",
        "Nesta seção, carregaremos a base de dados e exploraremos suas características básicas."
      ],
      "metadata": {
        "id": "kfdradC5-lMn"
      }
    },
    {
      "cell_type": "code",
      "source": [
        "# Código para carregar o dataset\n",
        "import pandas as pd\n",
        "\n",
        "# Carregar o dataset\n",
        "df = pd.read_csv('insurance.csv')\n",
        "df.head()"
      ],
      "metadata": {
        "colab": {
          "base_uri": "https://localhost:8080/",
          "height": 206
        },
        "id": "M1RS9eXo-r0f",
        "outputId": "c1af5754-f17e-4261-e03e-d0904c15c43d"
      },
      "execution_count": 2,
      "outputs": [
        {
          "output_type": "execute_result",
          "data": {
            "text/plain": [
              "   age     sex     bmi  children smoker     region      charges\n",
              "0   19  female  27.900         0    yes  southwest  16884.92400\n",
              "1   18    male  33.770         1     no  southeast   1725.55230\n",
              "2   28    male  33.000         3     no  southeast   4449.46200\n",
              "3   33    male  22.705         0     no  northwest  21984.47061\n",
              "4   32    male  28.880         0     no  northwest   3866.85520"
            ],
            "text/html": [
              "\n",
              "  <div id=\"df-7a8b1a04-4ba0-4239-b55e-b79cf66a1357\" class=\"colab-df-container\">\n",
              "    <div>\n",
              "<style scoped>\n",
              "    .dataframe tbody tr th:only-of-type {\n",
              "        vertical-align: middle;\n",
              "    }\n",
              "\n",
              "    .dataframe tbody tr th {\n",
              "        vertical-align: top;\n",
              "    }\n",
              "\n",
              "    .dataframe thead th {\n",
              "        text-align: right;\n",
              "    }\n",
              "</style>\n",
              "<table border=\"1\" class=\"dataframe\">\n",
              "  <thead>\n",
              "    <tr style=\"text-align: right;\">\n",
              "      <th></th>\n",
              "      <th>age</th>\n",
              "      <th>sex</th>\n",
              "      <th>bmi</th>\n",
              "      <th>children</th>\n",
              "      <th>smoker</th>\n",
              "      <th>region</th>\n",
              "      <th>charges</th>\n",
              "    </tr>\n",
              "  </thead>\n",
              "  <tbody>\n",
              "    <tr>\n",
              "      <th>0</th>\n",
              "      <td>19</td>\n",
              "      <td>female</td>\n",
              "      <td>27.900</td>\n",
              "      <td>0</td>\n",
              "      <td>yes</td>\n",
              "      <td>southwest</td>\n",
              "      <td>16884.92400</td>\n",
              "    </tr>\n",
              "    <tr>\n",
              "      <th>1</th>\n",
              "      <td>18</td>\n",
              "      <td>male</td>\n",
              "      <td>33.770</td>\n",
              "      <td>1</td>\n",
              "      <td>no</td>\n",
              "      <td>southeast</td>\n",
              "      <td>1725.55230</td>\n",
              "    </tr>\n",
              "    <tr>\n",
              "      <th>2</th>\n",
              "      <td>28</td>\n",
              "      <td>male</td>\n",
              "      <td>33.000</td>\n",
              "      <td>3</td>\n",
              "      <td>no</td>\n",
              "      <td>southeast</td>\n",
              "      <td>4449.46200</td>\n",
              "    </tr>\n",
              "    <tr>\n",
              "      <th>3</th>\n",
              "      <td>33</td>\n",
              "      <td>male</td>\n",
              "      <td>22.705</td>\n",
              "      <td>0</td>\n",
              "      <td>no</td>\n",
              "      <td>northwest</td>\n",
              "      <td>21984.47061</td>\n",
              "    </tr>\n",
              "    <tr>\n",
              "      <th>4</th>\n",
              "      <td>32</td>\n",
              "      <td>male</td>\n",
              "      <td>28.880</td>\n",
              "      <td>0</td>\n",
              "      <td>no</td>\n",
              "      <td>northwest</td>\n",
              "      <td>3866.85520</td>\n",
              "    </tr>\n",
              "  </tbody>\n",
              "</table>\n",
              "</div>\n",
              "    <div class=\"colab-df-buttons\">\n",
              "\n",
              "  <div class=\"colab-df-container\">\n",
              "    <button class=\"colab-df-convert\" onclick=\"convertToInteractive('df-7a8b1a04-4ba0-4239-b55e-b79cf66a1357')\"\n",
              "            title=\"Convert this dataframe to an interactive table.\"\n",
              "            style=\"display:none;\">\n",
              "\n",
              "  <svg xmlns=\"http://www.w3.org/2000/svg\" height=\"24px\" viewBox=\"0 -960 960 960\">\n",
              "    <path d=\"M120-120v-720h720v720H120Zm60-500h600v-160H180v160Zm220 220h160v-160H400v160Zm0 220h160v-160H400v160ZM180-400h160v-160H180v160Zm440 0h160v-160H620v160ZM180-180h160v-160H180v160Zm440 0h160v-160H620v160Z\"/>\n",
              "  </svg>\n",
              "    </button>\n",
              "\n",
              "  <style>\n",
              "    .colab-df-container {\n",
              "      display:flex;\n",
              "      gap: 12px;\n",
              "    }\n",
              "\n",
              "    .colab-df-convert {\n",
              "      background-color: #E8F0FE;\n",
              "      border: none;\n",
              "      border-radius: 50%;\n",
              "      cursor: pointer;\n",
              "      display: none;\n",
              "      fill: #1967D2;\n",
              "      height: 32px;\n",
              "      padding: 0 0 0 0;\n",
              "      width: 32px;\n",
              "    }\n",
              "\n",
              "    .colab-df-convert:hover {\n",
              "      background-color: #E2EBFA;\n",
              "      box-shadow: 0px 1px 2px rgba(60, 64, 67, 0.3), 0px 1px 3px 1px rgba(60, 64, 67, 0.15);\n",
              "      fill: #174EA6;\n",
              "    }\n",
              "\n",
              "    .colab-df-buttons div {\n",
              "      margin-bottom: 4px;\n",
              "    }\n",
              "\n",
              "    [theme=dark] .colab-df-convert {\n",
              "      background-color: #3B4455;\n",
              "      fill: #D2E3FC;\n",
              "    }\n",
              "\n",
              "    [theme=dark] .colab-df-convert:hover {\n",
              "      background-color: #434B5C;\n",
              "      box-shadow: 0px 1px 3px 1px rgba(0, 0, 0, 0.15);\n",
              "      filter: drop-shadow(0px 1px 2px rgba(0, 0, 0, 0.3));\n",
              "      fill: #FFFFFF;\n",
              "    }\n",
              "  </style>\n",
              "\n",
              "    <script>\n",
              "      const buttonEl =\n",
              "        document.querySelector('#df-7a8b1a04-4ba0-4239-b55e-b79cf66a1357 button.colab-df-convert');\n",
              "      buttonEl.style.display =\n",
              "        google.colab.kernel.accessAllowed ? 'block' : 'none';\n",
              "\n",
              "      async function convertToInteractive(key) {\n",
              "        const element = document.querySelector('#df-7a8b1a04-4ba0-4239-b55e-b79cf66a1357');\n",
              "        const dataTable =\n",
              "          await google.colab.kernel.invokeFunction('convertToInteractive',\n",
              "                                                    [key], {});\n",
              "        if (!dataTable) return;\n",
              "\n",
              "        const docLinkHtml = 'Like what you see? Visit the ' +\n",
              "          '<a target=\"_blank\" href=https://colab.research.google.com/notebooks/data_table.ipynb>data table notebook</a>'\n",
              "          + ' to learn more about interactive tables.';\n",
              "        element.innerHTML = '';\n",
              "        dataTable['output_type'] = 'display_data';\n",
              "        await google.colab.output.renderOutput(dataTable, element);\n",
              "        const docLink = document.createElement('div');\n",
              "        docLink.innerHTML = docLinkHtml;\n",
              "        element.appendChild(docLink);\n",
              "      }\n",
              "    </script>\n",
              "  </div>\n",
              "\n",
              "\n",
              "<div id=\"df-de0f2308-1077-42a6-885a-a49222975806\">\n",
              "  <button class=\"colab-df-quickchart\" onclick=\"quickchart('df-de0f2308-1077-42a6-885a-a49222975806')\"\n",
              "            title=\"Suggest charts\"\n",
              "            style=\"display:none;\">\n",
              "\n",
              "<svg xmlns=\"http://www.w3.org/2000/svg\" height=\"24px\"viewBox=\"0 0 24 24\"\n",
              "     width=\"24px\">\n",
              "    <g>\n",
              "        <path d=\"M19 3H5c-1.1 0-2 .9-2 2v14c0 1.1.9 2 2 2h14c1.1 0 2-.9 2-2V5c0-1.1-.9-2-2-2zM9 17H7v-7h2v7zm4 0h-2V7h2v10zm4 0h-2v-4h2v4z\"/>\n",
              "    </g>\n",
              "</svg>\n",
              "  </button>\n",
              "\n",
              "<style>\n",
              "  .colab-df-quickchart {\n",
              "      --bg-color: #E8F0FE;\n",
              "      --fill-color: #1967D2;\n",
              "      --hover-bg-color: #E2EBFA;\n",
              "      --hover-fill-color: #174EA6;\n",
              "      --disabled-fill-color: #AAA;\n",
              "      --disabled-bg-color: #DDD;\n",
              "  }\n",
              "\n",
              "  [theme=dark] .colab-df-quickchart {\n",
              "      --bg-color: #3B4455;\n",
              "      --fill-color: #D2E3FC;\n",
              "      --hover-bg-color: #434B5C;\n",
              "      --hover-fill-color: #FFFFFF;\n",
              "      --disabled-bg-color: #3B4455;\n",
              "      --disabled-fill-color: #666;\n",
              "  }\n",
              "\n",
              "  .colab-df-quickchart {\n",
              "    background-color: var(--bg-color);\n",
              "    border: none;\n",
              "    border-radius: 50%;\n",
              "    cursor: pointer;\n",
              "    display: none;\n",
              "    fill: var(--fill-color);\n",
              "    height: 32px;\n",
              "    padding: 0;\n",
              "    width: 32px;\n",
              "  }\n",
              "\n",
              "  .colab-df-quickchart:hover {\n",
              "    background-color: var(--hover-bg-color);\n",
              "    box-shadow: 0 1px 2px rgba(60, 64, 67, 0.3), 0 1px 3px 1px rgba(60, 64, 67, 0.15);\n",
              "    fill: var(--button-hover-fill-color);\n",
              "  }\n",
              "\n",
              "  .colab-df-quickchart-complete:disabled,\n",
              "  .colab-df-quickchart-complete:disabled:hover {\n",
              "    background-color: var(--disabled-bg-color);\n",
              "    fill: var(--disabled-fill-color);\n",
              "    box-shadow: none;\n",
              "  }\n",
              "\n",
              "  .colab-df-spinner {\n",
              "    border: 2px solid var(--fill-color);\n",
              "    border-color: transparent;\n",
              "    border-bottom-color: var(--fill-color);\n",
              "    animation:\n",
              "      spin 1s steps(1) infinite;\n",
              "  }\n",
              "\n",
              "  @keyframes spin {\n",
              "    0% {\n",
              "      border-color: transparent;\n",
              "      border-bottom-color: var(--fill-color);\n",
              "      border-left-color: var(--fill-color);\n",
              "    }\n",
              "    20% {\n",
              "      border-color: transparent;\n",
              "      border-left-color: var(--fill-color);\n",
              "      border-top-color: var(--fill-color);\n",
              "    }\n",
              "    30% {\n",
              "      border-color: transparent;\n",
              "      border-left-color: var(--fill-color);\n",
              "      border-top-color: var(--fill-color);\n",
              "      border-right-color: var(--fill-color);\n",
              "    }\n",
              "    40% {\n",
              "      border-color: transparent;\n",
              "      border-right-color: var(--fill-color);\n",
              "      border-top-color: var(--fill-color);\n",
              "    }\n",
              "    60% {\n",
              "      border-color: transparent;\n",
              "      border-right-color: var(--fill-color);\n",
              "    }\n",
              "    80% {\n",
              "      border-color: transparent;\n",
              "      border-right-color: var(--fill-color);\n",
              "      border-bottom-color: var(--fill-color);\n",
              "    }\n",
              "    90% {\n",
              "      border-color: transparent;\n",
              "      border-bottom-color: var(--fill-color);\n",
              "    }\n",
              "  }\n",
              "</style>\n",
              "\n",
              "  <script>\n",
              "    async function quickchart(key) {\n",
              "      const quickchartButtonEl =\n",
              "        document.querySelector('#' + key + ' button');\n",
              "      quickchartButtonEl.disabled = true;  // To prevent multiple clicks.\n",
              "      quickchartButtonEl.classList.add('colab-df-spinner');\n",
              "      try {\n",
              "        const charts = await google.colab.kernel.invokeFunction(\n",
              "            'suggestCharts', [key], {});\n",
              "      } catch (error) {\n",
              "        console.error('Error during call to suggestCharts:', error);\n",
              "      }\n",
              "      quickchartButtonEl.classList.remove('colab-df-spinner');\n",
              "      quickchartButtonEl.classList.add('colab-df-quickchart-complete');\n",
              "    }\n",
              "    (() => {\n",
              "      let quickchartButtonEl =\n",
              "        document.querySelector('#df-de0f2308-1077-42a6-885a-a49222975806 button');\n",
              "      quickchartButtonEl.style.display =\n",
              "        google.colab.kernel.accessAllowed ? 'block' : 'none';\n",
              "    })();\n",
              "  </script>\n",
              "</div>\n",
              "    </div>\n",
              "  </div>\n"
            ],
            "application/vnd.google.colaboratory.intrinsic+json": {
              "type": "dataframe",
              "variable_name": "df",
              "summary": "{\n  \"name\": \"df\",\n  \"rows\": 1338,\n  \"fields\": [\n    {\n      \"column\": \"age\",\n      \"properties\": {\n        \"dtype\": \"number\",\n        \"std\": 14,\n        \"min\": 18,\n        \"max\": 64,\n        \"num_unique_values\": 47,\n        \"samples\": [\n          21,\n          45,\n          36\n        ],\n        \"semantic_type\": \"\",\n        \"description\": \"\"\n      }\n    },\n    {\n      \"column\": \"sex\",\n      \"properties\": {\n        \"dtype\": \"category\",\n        \"num_unique_values\": 2,\n        \"samples\": [\n          \"male\",\n          \"female\"\n        ],\n        \"semantic_type\": \"\",\n        \"description\": \"\"\n      }\n    },\n    {\n      \"column\": \"bmi\",\n      \"properties\": {\n        \"dtype\": \"number\",\n        \"std\": 6.098186911679014,\n        \"min\": 15.96,\n        \"max\": 53.13,\n        \"num_unique_values\": 548,\n        \"samples\": [\n          23.18,\n          26.885\n        ],\n        \"semantic_type\": \"\",\n        \"description\": \"\"\n      }\n    },\n    {\n      \"column\": \"children\",\n      \"properties\": {\n        \"dtype\": \"number\",\n        \"std\": 1,\n        \"min\": 0,\n        \"max\": 5,\n        \"num_unique_values\": 6,\n        \"samples\": [\n          0,\n          1\n        ],\n        \"semantic_type\": \"\",\n        \"description\": \"\"\n      }\n    },\n    {\n      \"column\": \"smoker\",\n      \"properties\": {\n        \"dtype\": \"category\",\n        \"num_unique_values\": 2,\n        \"samples\": [\n          \"no\",\n          \"yes\"\n        ],\n        \"semantic_type\": \"\",\n        \"description\": \"\"\n      }\n    },\n    {\n      \"column\": \"region\",\n      \"properties\": {\n        \"dtype\": \"category\",\n        \"num_unique_values\": 4,\n        \"samples\": [\n          \"southeast\",\n          \"northeast\"\n        ],\n        \"semantic_type\": \"\",\n        \"description\": \"\"\n      }\n    },\n    {\n      \"column\": \"charges\",\n      \"properties\": {\n        \"dtype\": \"number\",\n        \"std\": 12110.011236694001,\n        \"min\": 1121.8739,\n        \"max\": 63770.42801,\n        \"num_unique_values\": 1337,\n        \"samples\": [\n          8688.85885,\n          5708.867\n        ],\n        \"semantic_type\": \"\",\n        \"description\": \"\"\n      }\n    }\n  ]\n}"
            }
          },
          "metadata": {},
          "execution_count": 2
        }
      ]
    },
    {
      "cell_type": "markdown",
      "source": [
        "### 2.2. Análise Descritiva\n",
        "\n",
        "Analisaremos estatísticas descritivas e visualizaremos distribuições relevantes."
      ],
      "metadata": {
        "id": "v7au_acw-5m3"
      }
    },
    {
      "cell_type": "code",
      "source": [
        "# Código para análise descritiva\n",
        "df.describe()\n",
        "\n",
        "# Visualização das distribuições\n",
        "import seaborn as sns\n",
        "import matplotlib.pyplot as plt\n",
        "\n",
        "# Histograma das idades\n",
        "plt.figure(figsize=(10, 6))\n",
        "sns.histplot(df['age'], kde=True)\n",
        "plt.title('Distribuição das Idades')\n",
        "plt.show()"
      ],
      "metadata": {
        "colab": {
          "base_uri": "https://localhost:8080/",
          "height": 564
        },
        "id": "8r_uE9qP_s7X",
        "outputId": "f238ec0d-6445-41d5-a82d-56ea0f13f69e"
      },
      "execution_count": 4,
      "outputs": [
        {
          "output_type": "display_data",
          "data": {
            "text/plain": [
              "<Figure size 1000x600 with 1 Axes>"
            ],
            "image/png": "[encoded data removed]"
          },
          "metadata": {}
        }
      ]
    },
    {
      "cell_type": "markdown",
      "source": [
        "---\n",
        "\n",
        "##3. Pré-processamento de Dados\n",
        "##3.1. Limpeza de Dados\n",
        "Vamos tratar valores ausentes e remover outliers, se necessário."
      ],
      "metadata": {
        "id": "2UTabG9b_2Ht"
      }
    },
    {
      "cell_type": "code",
      "source": [
        "# Código para tratamento de valores ausentes\n",
        "df.isnull().sum()\n",
        "\n",
        "# Tratamento de outliers (se necessário)\n",
        "# Exemplo: Removendo outliers baseados no IQR\n",
        "num_cols = df.select_dtypes(include=['float64', 'int64']).columns\n",
        "Q1 = df[num_cols].quantile(0.25)\n",
        "Q3 = df[num_cols].quantile(0.75)\n",
        "IQR = Q3 - Q1\n",
        "df = df[~((df[num_cols] < (Q1 - 1.5 * IQR)) | (df[num_cols] > (Q3 + 1.5 * IQR))).any(axis=1)]"
      ],
      "metadata": {
        "id": "kuik0OhI_1cw"
      },
      "execution_count": 7,
      "outputs": []
    },
    {
      "cell_type": "markdown",
      "source": [
        "##3.2. Conversão de Variáveis Categóricas\n",
        "Transformaremos variáveis categóricas para um formato adequado para modelagem."
      ],
      "metadata": {
        "id": "S-lr9vyZADi2"
      }
    },
    {
      "cell_type": "code",
      "source": [
        "# Código para conversão de variáveis categóricas\n",
        "df = pd.get_dummies(df, columns=['sex', 'smoker', 'region'])"
      ],
      "metadata": {
        "id": "MZUPH6dbAIGI"
      },
      "execution_count": 8,
      "outputs": []
    },
    {
      "cell_type": "markdown",
      "source": [
        "___\n",
        "\n",
        "##4. Modelagem\n",
        "###4.1. Divisão dos Dados\n",
        "Dividiremos o conjunto de dados em conjuntos de treinamento e teste."
      ],
      "metadata": {
        "id": "WRwLuEuMAJU5"
      }
    },
    {
      "cell_type": "code",
      "source": [
        "# Código para divisão dos dados\n",
        "from sklearn.model_selection import train_test_split\n",
        "\n",
        "X = df.drop('charges', axis=1)\n",
        "y = df['charges']\n",
        "\n",
        "X_train, X_test, y_train, y_test = train_test_split(X, y, test_size=0.2, random_state=42)"
      ],
      "metadata": {
        "id": "_375fZPTATdE"
      },
      "execution_count": 9,
      "outputs": []
    },
    {
      "cell_type": "markdown",
      "source": [
        "##4.2. Treinamento do Modelo\n",
        "Criaremos e treinaremos o modelo preditivo de regressão."
      ],
      "metadata": {
        "id": "6LCp4dXUAV_z"
      }
    },
    {
      "cell_type": "code",
      "source": [
        "# Código para treinamento do modelo\n",
        "from sklearn.linear_model import LinearRegression\n",
        "\n",
        "model = LinearRegression()\n",
        "model.fit(X_train, y_train)"
      ],
      "metadata": {
        "colab": {
          "base_uri": "https://localhost:8080/",
          "height": 75
        },
        "id": "6uOIx48XAdMA",
        "outputId": "128c31d7-de31-4be5-fffc-3e442e1cd219"
      },
      "execution_count": 10,
      "outputs": [
        {
          "output_type": "execute_result",
          "data": {
            "text/plain": [
              "LinearRegression()"
            ],
            "text/html": [
              "<style>#sk-container-id-1 {color: black;background-color: white;}#sk-container-id-1 pre{padding: 0;}#sk-container-id-1 div.sk-toggleable {background-color: white;}#sk-container-id-1 label.sk-toggleable__label {cursor: pointer;display: block;width: 100%;margin-bottom: 0;padding: 0.3em;box-sizing: border-box;text-align: center;}#sk-container-id-1 label.sk-toggleable__label-arrow:before {content: \"▸\";float: left;margin-right: 0.25em;color: #696969;}#sk-container-id-1 label.sk-toggleable__label-arrow:hover:before {color: black;}#sk-container-id-1 div.sk-estimator:hover label.sk-toggleable__label-arrow:before {color: black;}#sk-container-id-1 div.sk-toggleable__content {max-height: 0;max-width: 0;overflow: hidden;text-align: left;background-color: #f0f8ff;}#sk-container-id-1 div.sk-toggleable__content pre {margin: 0.2em;color: black;border-radius: 0.25em;background-color: #f0f8ff;}#sk-container-id-1 input.sk-toggleable__control:checked~div.sk-toggleable__content {max-height: 200px;max-width: 100%;overflow: auto;}#sk-container-id-1 input.sk-toggleable__control:checked~label.sk-toggleable__label-arrow:before {content: \"▾\";}#sk-container-id-1 div.sk-estimator input.sk-toggleable__control:checked~label.sk-toggleable__label {background-color: #d4ebff;}#sk-container-id-1 div.sk-label input.sk-toggleable__control:checked~label.sk-toggleable__label {background-color: #d4ebff;}#sk-container-id-1 input.sk-hidden--visually {border: 0;clip: rect(1px 1px 1px 1px);clip: rect(1px, 1px, 1px, 1px);height: 1px;margin: -1px;overflow: hidden;padding: 0;position: absolute;width: 1px;}#sk-container-id-1 div.sk-estimator {font-family: monospace;background-color: #f0f8ff;border: 1px dotted black;border-radius: 0.25em;box-sizing: border-box;margin-bottom: 0.5em;}#sk-container-id-1 div.sk-estimator:hover {background-color: #d4ebff;}#sk-container-id-1 div.sk-parallel-item::after {content: \"\";width: 100%;border-bottom: 1px solid gray;flex-grow: 1;}#sk-container-id-1 div.sk-label:hover label.sk-toggleable__label {background-color: #d4ebff;}#sk-container-id-1 div.sk-serial::before {content: \"\";position: absolute;border-left: 1px solid gray;box-sizing: border-box;top: 0;bottom: 0;left: 50%;z-index: 0;}#sk-container-id-1 div.sk-serial {display: flex;flex-direction: column;align-items: center;background-color: white;padding-right: 0.2em;padding-left: 0.2em;position: relative;}#sk-container-id-1 div.sk-item {position: relative;z-index: 1;}#sk-container-id-1 div.sk-parallel {display: flex;align-items: stretch;justify-content: center;background-color: white;position: relative;}#sk-container-id-1 div.sk-item::before, #sk-container-id-1 div.sk-parallel-item::before {content: \"\";position: absolute;border-left: 1px solid gray;box-sizing: border-box;top: 0;bottom: 0;left: 50%;z-index: -1;}#sk-container-id-1 div.sk-parallel-item {display: flex;flex-direction: column;z-index: 1;position: relative;background-color: white;}#sk-container-id-1 div.sk-parallel-item:first-child::after {align-self: flex-end;width: 50%;}#sk-container-id-1 div.sk-parallel-item:last-child::after {align-self: flex-start;width: 50%;}#sk-container-id-1 div.sk-parallel-item:only-child::after {width: 0;}#sk-container-id-1 div.sk-dashed-wrapped {border: 1px dashed gray;margin: 0 0.4em 0.5em 0.4em;box-sizing: border-box;padding-bottom: 0.4em;background-color: white;}#sk-container-id-1 div.sk-label label {font-family: monospace;font-weight: bold;display: inline-block;line-height: 1.2em;}#sk-container-id-1 div.sk-label-container {text-align: center;}#sk-container-id-1 div.sk-container {/* jupyter's `normalize.less` sets `[hidden] { display: none; }` but bootstrap.min.css set `[hidden] { display: none !important; }` so we also need the `!important` here to be able to override the default hidden behavior on the sphinx rendered scikit-learn.org. See: https://github.com/scikit-learn/scikit-learn/issues/21755 */display: inline-block !important;position: relative;}#sk-container-id-1 div.sk-text-repr-fallback {display: none;}</style><div id=\"sk-container-id-1\" class=\"sk-top-container\"><div class=\"sk-text-repr-fallback\"><pre>LinearRegression()</pre><b>In a Jupyter environment, please rerun this cell to show the HTML representation or trust the notebook. <br />On GitHub, the HTML representation is unable to render, please try loading this page with nbviewer.org.</b></div><div class=\"sk-container\" hidden><div class=\"sk-item\"><div class=\"sk-estimator sk-toggleable\"><input class=\"sk-toggleable__control sk-hidden--visually\" id=\"sk-estimator-id-1\" type=\"checkbox\" checked><label for=\"sk-estimator-id-1\" class=\"sk-toggleable__label sk-toggleable__label-arrow\">LinearRegression</label><div class=\"sk-toggleable__content\"><pre>LinearRegression()</pre></div></div></div></div></div>"
            ]
          },
          "metadata": {},
          "execution_count": 10
        }
      ]
    },
    {
      "cell_type": "markdown",
      "source": [
        "___\n",
        "\n",
        "##5. Treinamento e Avaliação do Modelo\n",
        "###5.1. Avaliação do Desempenho\n",
        "Utilizaremos métricas como RMSE, MAE e R² para avaliar a performance do modelo."
      ],
      "metadata": {
        "id": "oUUQigpIAgP9"
      }
    },
    {
      "cell_type": "code",
      "source": [
        "# Código para avaliação do modelo\n",
        "from sklearn.metrics import mean_absolute_error, mean_squared_error, r2_score\n",
        "\n",
        "y_pred = model.predict(X_test)\n",
        "\n",
        "mae = mean_absolute_error(y_test, y_pred)\n",
        "mse = mean_squared_error(y_test, y_pred)\n",
        "rmse = mse ** 0.5\n",
        "r2 = r2_score(y_test, y_pred)\n",
        "\n",
        "print(f'MAE: {mae}')\n",
        "print(f'RMSE: {rmse}')\n",
        "print(f'R²: {r2}')"
      ],
      "metadata": {
        "colab": {
          "base_uri": "https://localhost:8080/"
        },
        "id": "BVZ-98N8AnT6",
        "outputId": "55902b16-8ab5-4cf8-9275-734f571438a1"
      },
      "execution_count": 11,
      "outputs": [
        {
          "output_type": "stream",
          "name": "stdout",
          "text": [
            "MAE: 2672.4139226145717\n",
            "RMSE: 4384.059307043479\n",
            "R²: 0.5980165384315913\n"
          ]
        }
      ]
    },
    {
      "cell_type": "markdown",
      "source": [
        "___\n",
        "\n",
        "##6. Validação Estatística\n",
        "###6.1. Intervalos de Confiança e P-valores\n",
        "Calcularemos intervalos de confiança e p-valores para validar a significância dos resultados."
      ],
      "metadata": {
        "id": "WJVRh0e5Aq_c"
      }
    },
    {
      "cell_type": "code",
      "source": [
        "import statsmodels.api as sm\n",
        "import numpy as np\n",
        "\n",
        "# Adicionar constante para o modelo de statsmodels\n",
        "X_train_sm = sm.add_constant(X_train)\n",
        "\n",
        "# Garantir que todos os dados sejam numéricos e convertidos para o formato correto\n",
        "X_train_sm = np.asarray(X_train_sm).astype(np.float64)\n",
        "y_train = np.asarray(y_train).astype(np.float64)\n",
        "\n",
        "# Ajustar o modelo de regressão\n",
        "model_sm = sm.OLS(y_train, X_train_sm).fit()\n",
        "\n",
        "# Imprimir o resumo do modelo\n",
        "print(model_sm.summary())"
      ],
      "metadata": {
        "colab": {
          "base_uri": "https://localhost:8080/"
        },
        "id": "wS2p7Q_ZA1Pp",
        "outputId": "981c4e47-701c-430e-9f5b-0c190bed08cd"
      },
      "execution_count": 15,
      "outputs": [
        {
          "output_type": "stream",
          "name": "stdout",
          "text": [
            "                            OLS Regression Results                            \n",
            "==============================================================================\n",
            "Dep. Variable:                      y   R-squared:                       0.602\n",
            "Model:                            OLS   Adj. R-squared:                  0.598\n",
            "Method:                 Least Squares   F-statistic:                     178.3\n",
            "Date:                Sat, 25 May 2024   Prob (F-statistic):          6.01e-183\n",
            "Time:                        14:36:18   Log-Likelihood:                -9404.8\n",
            "No. Observations:                 954   AIC:                         1.883e+04\n",
            "Df Residuals:                     945   BIC:                         1.887e+04\n",
            "Df Model:                           8                                         \n",
            "Covariance Type:            nonrobust                                         \n",
            "==============================================================================\n",
            "                 coef    std err          t      P>|t|      [0.025      0.975]\n",
            "------------------------------------------------------------------------------\n",
            "const       1696.2200    388.597      4.365      0.000     933.606    2458.834\n",
            "x1           242.6414     10.821     22.423      0.000     221.405     263.878\n",
            "x2            74.0418     27.267      2.715      0.007      20.530     127.553\n",
            "x3           451.2167    124.690      3.619      0.000     206.515     695.919\n",
            "x4          1221.5078    244.829      4.989      0.000     741.035    1701.980\n",
            "x5           474.7122    246.934      1.922      0.055      -9.890     959.314\n",
            "x6         -6948.8754    317.824    -21.864      0.000   -7572.598   -6325.153\n",
            "x7          8645.0953    318.922     27.107      0.000    8019.217    9270.973\n",
            "x8          1369.7008    272.787      5.021      0.000     834.362    1905.040\n",
            "x9           659.1721    266.444      2.474      0.014     136.282    1182.062\n",
            "x10           90.7154    298.979      0.303      0.762    -496.024     677.454\n",
            "x11         -423.3684    285.628     -1.482      0.139    -983.907     137.170\n",
            "==============================================================================\n",
            "Omnibus:                      596.037   Durbin-Watson:                   2.042\n",
            "Prob(Omnibus):                  0.000   Jarque-Bera (JB):             4053.736\n",
            "Skew:                           2.977   Prob(JB):                         0.00\n",
            "Kurtosis:                      11.156   Cond. No.                     1.60e+18\n",
            "==============================================================================\n",
            "\n",
            "Notes:\n",
            "[1] Standard Errors assume that the covariance matrix of the errors is correctly specified.\n",
            "[2] The smallest eigenvalue is 9.6e-31. This might indicate that there are\n",
            "strong multicollinearity problems or that the design matrix is singular.\n"
          ]
        }
      ]
    },
    {
      "cell_type": "markdown",
      "source": [
        "___\n",
        "\n",
        "##7. Apresentação dos Resultados\n",
        "###7.1. Visualização dos Resultados\n",
        "Apresentaremos os gráficos de previsões vs. valores reais e outros gráficos relevantes."
      ],
      "metadata": {
        "id": "JHa-PJv4A4yO"
      }
    },
    {
      "cell_type": "code",
      "source": [
        "# Código para visualização dos resultados\n",
        "plt.figure(figsize=(10, 6))\n",
        "plt.scatter(y_test, y_pred)\n",
        "plt.plot([y_test.min(), y_test.max()], [y_test.min(), y_test.max()], 'k--', lw=2)\n",
        "plt.xlabel('Valores Reais')\n",
        "plt.ylabel('Previsões')\n",
        "plt.title('Previsões vs. Valores Reais')\n",
        "plt.show()"
      ],
      "metadata": {
        "colab": {
          "base_uri": "https://localhost:8080/",
          "height": 564
        },
        "id": "HwNkKp0KBCqr",
        "outputId": "ba2fe891-4889-4766-9707-613d939d11ff"
      },
      "execution_count": 16,
      "outputs": [
        {
          "output_type": "display_data",
          "data": {
            "text/plain": [
              "<Figure size 1000x600 with 1 Axes>"
            ],
            "image/png": "[encoded data removed]"
          },
          "metadata": {}
        }
      ]
    },
    {
      "cell_type": "markdown",
      "source": [
        "___\n",
        "\n",
        "##8. Conclusão\n",
        "###8.1. Discussão dos Resultados\n",
        "Interpretaremos os resultados, discutindo as limitações e possíveis melhorias.\n",
        "\n",
        "###8.2. Considerações Finais\n",
        "Resumiremos os principais achados e implicações práticas do projeto."
      ],
      "metadata": {
        "id": "sBGsSSHHBIvj"
      }
    }
  ]
}